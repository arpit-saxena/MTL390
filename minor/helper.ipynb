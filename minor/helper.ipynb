{
 "metadata": {
  "language_info": {
   "codemirror_mode": {
    "name": "ipython",
    "version": 3
   },
   "file_extension": ".py",
   "mimetype": "text/x-python",
   "name": "python",
   "nbconvert_exporter": "python",
   "pygments_lexer": "ipython3",
   "version": "3.9.2-final"
  },
  "orig_nbformat": 2,
  "kernelspec": {
   "name": "python3",
   "display_name": "Python 3",
   "language": "python"
  }
 },
 "nbformat": 4,
 "nbformat_minor": 2,
 "cells": [
  {
   "cell_type": "code",
   "execution_count": 132,
   "metadata": {},
   "outputs": [],
   "source": [
    "import numpy as np\n",
    "import pandas as pd"
   ]
  },
  {
   "source": [
    "## Question 1\n",
    "\n",
    "Drawing samples from a bivariate gaussian distribution and calculating sample kurtosis and skewness"
   ],
   "cell_type": "markdown",
   "metadata": {}
  },
  {
   "cell_type": "code",
   "execution_count": 133,
   "metadata": {},
   "outputs": [],
   "source": [
    "cov = np.array([\n",
    "    [9, 2],\n",
    "    [2, 3],\n",
    "])\n",
    "mean = np.array([1, 0])\n",
    "\n",
    "from numpy.random import default_rng\n",
    "rng = default_rng()\n",
    "samples = pd.DataFrame(rng.multivariate_normal(mean, cov, 10))"
   ]
  },
  {
   "cell_type": "code",
   "execution_count": 134,
   "metadata": {},
   "outputs": [
    {
     "output_type": "stream",
     "name": "stdout",
     "text": [
      "\\begin{tabular}{lrr}\n\\toprule\n{} &         0 &         1 \\\\\n\\midrule\n0 & -2.510834 &  1.353842 \\\\\n1 &  2.460964 &  1.047027 \\\\\n2 &  2.880128 &  0.334724 \\\\\n3 &  0.247257 & -2.283290 \\\\\n4 & -0.520507 & -1.802969 \\\\\n5 & -2.533162 & -0.772745 \\\\\n6 & -2.712959 & -0.937094 \\\\\n7 & -2.946428 & -2.509824 \\\\\n8 & -2.389207 &  0.009869 \\\\\n9 &  2.698193 &  3.465459 \\\\\n\\bottomrule\n\\end{tabular}\n\n"
     ]
    }
   ],
   "source": [
    "print(samples.to_latex())"
   ]
  },
  {
   "source": [
    "# Question 5\n",
    "Drawing samples from Poisson distribution"
   ],
   "cell_type": "markdown",
   "metadata": {}
  },
  {
   "cell_type": "code",
   "execution_count": 135,
   "metadata": {},
   "outputs": [],
   "source": [
    "from scipy.stats import poisson\n",
    "dist = poisson\n",
    "dist.random_state = np.random.RandomState(seed=200)\n",
    "a = dist.rvs(20, size=20)"
   ]
  },
  {
   "cell_type": "code",
   "execution_count": 136,
   "metadata": {},
   "outputs": [
    {
     "output_type": "stream",
     "name": "stdout",
     "text": [
      "\\begin{tabular}{r}\n\\toprule\n  0 \\\\\n\\midrule\n 30 \\\\\n 21 \\\\\n 24 \\\\\n 18 \\\\\n 28 \\\\\n 25 \\\\\n 24 \\\\\n 25 \\\\\n 26 \\\\\n 19 \\\\\n 19 \\\\\n 21 \\\\\n 22 \\\\\n 34 \\\\\n 22 \\\\\n 15 \\\\\n 22 \\\\\n 25 \\\\\n 16 \\\\\n 22 \\\\\n\\bottomrule\n\\end{tabular}\n\n"
     ]
    }
   ],
   "source": [
    "print(pd.Series(a).to_latex(index=None))"
   ]
  },
  {
   "cell_type": "code",
   "execution_count": 137,
   "metadata": {},
   "outputs": [],
   "source": [
    "m1 = a.mean()\n",
    "m2 = (a**2).mean()\n",
    "m3 = (a**3).mean()"
   ]
  },
  {
   "cell_type": "code",
   "execution_count": 138,
   "metadata": {},
   "outputs": [
    {
     "output_type": "stream",
     "name": "stdout",
     "text": [
      "Sample Moments:\nm1 = 22.9\nm2 = 544.4\nm3 = 13424.5\n"
     ]
    }
   ],
   "source": [
    "print(\"Sample Moments:\")\n",
    "print(f\"m1 = {m1}\")\n",
    "print(f\"m2 = {m2}\")\n",
    "print(f\"m3 = {m3}\")"
   ]
  },
  {
   "cell_type": "code",
   "execution_count": 139,
   "metadata": {},
   "outputs": [
    {
     "output_type": "stream",
     "name": "stdout",
     "text": [
      "Estimate 1: 22.9\nEstimate 2: 22.83637449333847\n"
     ]
    }
   ],
   "source": [
    "print(f\"Estimate 1: {m1}\")\n",
    "print(f\"Estimate 2: {np.sqrt(m2 - m1)}\")"
   ]
  },
  {
   "cell_type": "code",
   "execution_count": 140,
   "metadata": {},
   "outputs": [],
   "source": [
    "def f(l):\n",
    "    return 100 * (a.mean() - l)**2 + 10 * ((a**2).mean() - l**2 -l)**2 + ((a**3).mean() - l**3 - 3*l**2 - l)**2"
   ]
  },
  {
   "cell_type": "code",
   "execution_count": 141,
   "metadata": {},
   "outputs": [
    {
     "output_type": "execute_result",
     "data": {
      "text/plain": [
       "      fun: 42.39296682167475\n",
       " hess_inv: array([[1.72413686e-07]])\n",
       "      jac: array([4.76837158e-07])\n",
       "  message: 'Optimization terminated successfully.'\n",
       "     nfev: 24\n",
       "      nit: 4\n",
       "     njev: 12\n",
       "   status: 0\n",
       "  success: True\n",
       "        x: array([22.79433678])"
      ]
     },
     "metadata": {},
     "execution_count": 141
    }
   ],
   "source": [
    "from scipy.optimize import minimize\n",
    "minimize(f, 0)"
   ]
  }
 ]
}